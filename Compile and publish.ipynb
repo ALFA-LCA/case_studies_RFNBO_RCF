{
 "cells": [
  {
   "cell_type": "markdown",
   "metadata": {},
   "source": [
    "# Initialization if starting from scratch"
   ]
  },
  {
   "cell_type": "code",
   "execution_count": null,
   "metadata": {},
   "outputs": [
    {
     "name": "stdout",
     "output_type": "stream",
     "text": [
      "Requirement already satisfied: mkdocs-exporter in /home/hurtiol/.conda/envs/EVALUATE/lib/python3.13/site-packages (6.2.0)\n",
      "Collecting mkdocs-print-site-plugin\n",
      "  Downloading mkdocs_print_site_plugin-2.7.3-py3-none-any.whl.metadata (3.7 kB)\n",
      "Requirement already satisfied: beautifulsoup4>=4.12.2 in /home/hurtiol/.conda/envs/EVALUATE/lib/python3.13/site-packages (from mkdocs-exporter) (4.13.4)\n",
      "Requirement already satisfied: libsass>=0.22.0 in /home/hurtiol/.conda/envs/EVALUATE/lib/python3.13/site-packages (from mkdocs-exporter) (0.23.0)\n",
      "Requirement already satisfied: lxml>=4.9 in /home/hurtiol/.conda/envs/EVALUATE/lib/python3.13/site-packages (from mkdocs-exporter) (5.4.0)\n",
      "Requirement already satisfied: mkdocs>=1.4 in /home/hurtiol/.conda/envs/EVALUATE/lib/python3.13/site-packages (from mkdocs-exporter) (1.6.1)\n",
      "Requirement already satisfied: playwright>=1.33 in /home/hurtiol/.conda/envs/EVALUATE/lib/python3.13/site-packages (from mkdocs-exporter) (1.53.0)\n",
      "Requirement already satisfied: pypdf>=4.2.0 in /home/hurtiol/.conda/envs/EVALUATE/lib/python3.13/site-packages (from mkdocs-exporter) (5.7.0)\n",
      "Requirement already satisfied: mkdocs-material>=7.3.0 in /home/hurtiol/.conda/envs/EVALUATE/lib/python3.13/site-packages (from mkdocs-print-site-plugin) (9.6.15)\n",
      "Requirement already satisfied: soupsieve>1.2 in /home/hurtiol/.conda/envs/EVALUATE/lib/python3.13/site-packages (from beautifulsoup4>=4.12.2->mkdocs-exporter) (2.7)\n",
      "Requirement already satisfied: typing-extensions>=4.0.0 in /home/hurtiol/.conda/envs/EVALUATE/lib/python3.13/site-packages (from beautifulsoup4>=4.12.2->mkdocs-exporter) (4.12.2)\n",
      "Requirement already satisfied: click>=7.0 in /home/hurtiol/.conda/envs/EVALUATE/lib/python3.13/site-packages (from mkdocs>=1.4->mkdocs-exporter) (8.1.8)\n",
      "Requirement already satisfied: ghp-import>=1.0 in /home/hurtiol/.conda/envs/EVALUATE/lib/python3.13/site-packages (from mkdocs>=1.4->mkdocs-exporter) (2.1.0)\n",
      "Requirement already satisfied: jinja2>=2.11.1 in /home/hurtiol/.conda/envs/EVALUATE/lib/python3.13/site-packages (from mkdocs>=1.4->mkdocs-exporter) (3.1.5)\n",
      "Requirement already satisfied: markdown>=3.3.6 in /home/hurtiol/.conda/envs/EVALUATE/lib/python3.13/site-packages (from mkdocs>=1.4->mkdocs-exporter) (3.8.2)\n",
      "Requirement already satisfied: markupsafe>=2.0.1 in /home/hurtiol/.conda/envs/EVALUATE/lib/python3.13/site-packages (from mkdocs>=1.4->mkdocs-exporter) (3.0.2)\n",
      "Requirement already satisfied: mergedeep>=1.3.4 in /home/hurtiol/.conda/envs/EVALUATE/lib/python3.13/site-packages (from mkdocs>=1.4->mkdocs-exporter) (1.3.4)\n",
      "Requirement already satisfied: mkdocs-get-deps>=0.2.0 in /home/hurtiol/.conda/envs/EVALUATE/lib/python3.13/site-packages (from mkdocs>=1.4->mkdocs-exporter) (0.2.0)\n",
      "Requirement already satisfied: packaging>=20.5 in /home/hurtiol/.conda/envs/EVALUATE/lib/python3.13/site-packages (from mkdocs>=1.4->mkdocs-exporter) (24.2)\n",
      "Requirement already satisfied: pathspec>=0.11.1 in /home/hurtiol/.conda/envs/EVALUATE/lib/python3.13/site-packages (from mkdocs>=1.4->mkdocs-exporter) (0.12.1)\n",
      "Requirement already satisfied: pyyaml-env-tag>=0.1 in /home/hurtiol/.conda/envs/EVALUATE/lib/python3.13/site-packages (from mkdocs>=1.4->mkdocs-exporter) (1.1)\n",
      "Requirement already satisfied: pyyaml>=5.1 in /home/hurtiol/.conda/envs/EVALUATE/lib/python3.13/site-packages (from mkdocs>=1.4->mkdocs-exporter) (6.0.2)\n",
      "Requirement already satisfied: watchdog>=2.0 in /home/hurtiol/.conda/envs/EVALUATE/lib/python3.13/site-packages (from mkdocs>=1.4->mkdocs-exporter) (6.0.0)\n",
      "Requirement already satisfied: babel~=2.10 in /home/hurtiol/.conda/envs/EVALUATE/lib/python3.13/site-packages (from mkdocs-material>=7.3.0->mkdocs-print-site-plugin) (2.17.0)\n",
      "Requirement already satisfied: backrefs~=5.7.post1 in /home/hurtiol/.conda/envs/EVALUATE/lib/python3.13/site-packages (from mkdocs-material>=7.3.0->mkdocs-print-site-plugin) (5.9)\n",
      "Requirement already satisfied: colorama~=0.4 in /home/hurtiol/.conda/envs/EVALUATE/lib/python3.13/site-packages (from mkdocs-material>=7.3.0->mkdocs-print-site-plugin) (0.4.6)\n",
      "Requirement already satisfied: mkdocs-material-extensions~=1.3 in /home/hurtiol/.conda/envs/EVALUATE/lib/python3.13/site-packages (from mkdocs-material>=7.3.0->mkdocs-print-site-plugin) (1.3.1)\n",
      "Requirement already satisfied: paginate~=0.5 in /home/hurtiol/.conda/envs/EVALUATE/lib/python3.13/site-packages (from mkdocs-material>=7.3.0->mkdocs-print-site-plugin) (0.5.7)\n",
      "Requirement already satisfied: pygments~=2.16 in /home/hurtiol/.conda/envs/EVALUATE/lib/python3.13/site-packages (from mkdocs-material>=7.3.0->mkdocs-print-site-plugin) (2.19.2)\n",
      "Requirement already satisfied: pymdown-extensions~=10.2 in /home/hurtiol/.conda/envs/EVALUATE/lib/python3.13/site-packages (from mkdocs-material>=7.3.0->mkdocs-print-site-plugin) (10.16)\n",
      "Requirement already satisfied: requests~=2.26 in /home/hurtiol/.conda/envs/EVALUATE/lib/python3.13/site-packages (from mkdocs-material>=7.3.0->mkdocs-print-site-plugin) (2.32.3)\n",
      "Requirement already satisfied: pyee<14,>=13 in /home/hurtiol/.conda/envs/EVALUATE/lib/python3.13/site-packages (from playwright>=1.33->mkdocs-exporter) (13.0.0)\n",
      "Requirement already satisfied: greenlet<4.0.0,>=3.1.1 in /home/hurtiol/.conda/envs/EVALUATE/lib/python3.13/site-packages (from playwright>=1.33->mkdocs-exporter) (3.2.3)\n",
      "Requirement already satisfied: python-dateutil>=2.8.1 in /home/hurtiol/.conda/envs/EVALUATE/lib/python3.13/site-packages (from ghp-import>=1.0->mkdocs>=1.4->mkdocs-exporter) (2.9.0.post0)\n",
      "Requirement already satisfied: platformdirs>=2.2.0 in /home/hurtiol/.conda/envs/EVALUATE/lib/python3.13/site-packages (from mkdocs-get-deps>=0.2.0->mkdocs>=1.4->mkdocs-exporter) (4.3.6)\n",
      "Requirement already satisfied: charset-normalizer<4,>=2 in /home/hurtiol/.conda/envs/EVALUATE/lib/python3.13/site-packages (from requests~=2.26->mkdocs-material>=7.3.0->mkdocs-print-site-plugin) (3.4.1)\n",
      "Requirement already satisfied: idna<4,>=2.5 in /home/hurtiol/.conda/envs/EVALUATE/lib/python3.13/site-packages (from requests~=2.26->mkdocs-material>=7.3.0->mkdocs-print-site-plugin) (3.10)\n",
      "Requirement already satisfied: urllib3<3,>=1.21.1 in /home/hurtiol/.conda/envs/EVALUATE/lib/python3.13/site-packages (from requests~=2.26->mkdocs-material>=7.3.0->mkdocs-print-site-plugin) (2.3.0)\n",
      "Requirement already satisfied: certifi>=2017.4.17 in /home/hurtiol/.conda/envs/EVALUATE/lib/python3.13/site-packages (from requests~=2.26->mkdocs-material>=7.3.0->mkdocs-print-site-plugin) (2025.1.31)\n",
      "Requirement already satisfied: six>=1.5 in /home/hurtiol/.conda/envs/EVALUATE/lib/python3.13/site-packages (from python-dateutil>=2.8.1->ghp-import>=1.0->mkdocs>=1.4->mkdocs-exporter) (1.16.0)\n",
      "Downloading mkdocs_print_site_plugin-2.7.3-py3-none-any.whl (20 kB)\n",
      "Installing collected packages: mkdocs-print-site-plugin\n",
      "Successfully installed mkdocs-print-site-plugin-2.7.3\n",
      "Note: you may need to restart the kernel to use updated packages.\n"
     ]
    }
   ],
   "source": [
    "# %pip install mkdocs-material\n",
    "# %pip install mkdocs-plugin-inline-svg mkdocs-awesome-pages-plugin\n",
    "# %pip install mkdocs-exporter mkdocs-print-site-plugin\n",
    "# %pip install mdsplit"
   ]
  },
  {
   "cell_type": "code",
   "execution_count": 3,
   "metadata": {},
   "outputs": [
    {
     "name": "stdout",
     "output_type": "stream",
     "text": [
      "INFO    -  Writing config file: ./mkdocs.yml\n",
      "INFO    -  Writing initial docs: ./docs/index.md\n"
     ]
    }
   ],
   "source": [
    "#!mkdocs new ."
   ]
  },
  {
   "cell_type": "markdown",
   "metadata": {},
   "source": [
    "# Split the main document\n",
    "\n",
    "**Please only edit casestudies.md**\n",
    "\n",
    "The next cell will split this document in one document per case study.\n",
    "\n",
    "Please move the resulting files (except index.md) from \"doc\" to \"doc/RFNBO case studies/\" before continuing."
   ]
  },
  {
   "cell_type": "code",
   "execution_count": 24,
   "metadata": {},
   "outputs": [
    {
     "name": "stdout",
     "output_type": "stream",
     "text": [
      "Warning: writing output to existing directory 'docs'\n",
      "Process file 'casestudies.md' to 'docs'\n",
      "Create output folder 'docs'\n",
      "Write 66 lines to 'docs/H1-Co-products.md'\n",
      "Write 84 lines to 'docs/H2-Time-averaging.md'\n",
      "Write 129 lines to 'docs/H3-Hydrogen-full-example.md'\n",
      "Write 61 lines to 'docs/R1-Relevant-inputs.md'\n",
      "Write 77 lines to 'docs/R2-Integrated-processes.md'\n",
      "Write 77 lines to 'docs/R3-Biofuels-and-RFNBO-co-production.md'\n",
      "Write 40 lines to 'docs/R4-Partly-replacing-fossil-inputs.md'\n",
      "Write 64 lines to 'docs/R5-Allocation-to-co-produced-heat.md'\n",
      "Write 148 lines to 'docs/R6-Full-example.md'\n",
      "Splittig result:\n",
      "- 1 input file(s) (casestudies.md)\n",
      "- 9 extracted chapter(s)\n",
      "- 9 new output file(s) (docs)\n"
     ]
    }
   ],
   "source": [
    "import mdsplit as mdsplit\n",
    "\n",
    "splitter = mdsplit.PathBasedSplitter(\n",
    "    \"casestudies.md\",\n",
    "    out_path=\"docs\",\n",
    "    encoding=None,\n",
    "    level=1,\n",
    "    toc=False,\n",
    "    navigation=False,\n",
    "    force=True,\n",
    "    verbose=True,\n",
    ")\n",
    "splitter.process()\n",
    "splitter.print_stats()"
   ]
  },
  {
   "cell_type": "markdown",
   "metadata": {},
   "source": [
    "# Upload 2 different versions\n",
    "## A version working with pdf export\n",
    "\n",
    "This version can be saved as pdf from the webpage by going to https://oliver-hurtig.github.io/case_studies_for_pdf/print_page/ and clicking Ctrl+p.\n",
    "\n",
    "Further editing can be done by opening it in Word."
   ]
  },
  {
   "cell_type": "code",
   "execution_count": 25,
   "metadata": {},
   "outputs": [
    {
     "name": "stdout",
     "output_type": "stream",
     "text": [
      "INFO    -  Cleaning site directory\n",
      "INFO    -  Building documentation to directory:\n",
      "           /storage/hurtiol/Documents/da_rfnbo_case_studies/site\n",
      "INFO    -  mkdocs-plugin-inline-svg: including SVG:\n",
      "           /storage/hurtiol/Documents/da_rfnbo_case_studies/docs/images/h1_allocation.svg\n",
      "INFO    -  mkdocs-plugin-inline-svg: including SVG:\n",
      "           /storage/hurtiol/Documents/da_rfnbo_case_studies/docs/images/h2_grid.svg\n",
      "INFO    -  mkdocs-plugin-inline-svg: including SVG:\n",
      "           /storage/hurtiol/Documents/da_rfnbo_case_studies/docs/images/h3_hydrogen.svg\n",
      "INFO    -  mkdocs-plugin-inline-svg: including SVG:\n",
      "           /storage/hurtiol/Documents/da_rfnbo_case_studies/docs/images/r1_ammonia_relevant\n",
      "           energy_plain.svg\n",
      "INFO    -  mkdocs-plugin-inline-svg: including SVG:\n",
      "           /storage/hurtiol/Documents/da_rfnbo_case_studies/docs/images/r2_integrated\n",
      "           rWGS and FT.svg\n",
      "INFO    -  mkdocs-plugin-inline-svg: including SVG:\n",
      "           /storage/hurtiol/Documents/da_rfnbo_case_studies/docs/images/r3_biogenic\n",
      "           co-production.svg\n",
      "INFO    -  mkdocs-plugin-inline-svg: including SVG:\n",
      "           /storage/hurtiol/Documents/da_rfnbo_case_studies/docs/images/r4_splitting\n",
      "           fossil.svg\n",
      "INFO    -  mkdocs-plugin-inline-svg: including SVG:\n",
      "           /storage/hurtiol/Documents/da_rfnbo_case_studies/docs/images/r5_heat\n",
      "           allocation.svg\n",
      "INFO    -  mkdocs-plugin-inline-svg: including SVG:\n",
      "           /storage/hurtiol/Documents/da_rfnbo_case_studies/docs/images/r6-optimized.svg\n",
      "INFO    -  Doc file 'RFNBO case studies/H3-Hydrogen-full-example.md' contains a\n",
      "           link '#h1-co-products', but there is no such anchor on this page.\n",
      "INFO    -  Doc file 'RFNBO case studies/R4-Partly-replacing-fossil-inputs.md'\n",
      "           contains a link '#r3-biofuels-and-rfnbo-co-production', but there is\n",
      "           no such anchor on this page.\n",
      "INFO    -  Doc file 'RFNBO case studies/R6-Full-example.md' contains a link\n",
      "           '#h3-hydrogen-full-example', but there is no such anchor on this\n",
      "           page.\n",
      "INFO    -  Documentation built in 1.68 seconds\n",
      "INFO    -  Copying '/storage/hurtiol/Documents/da_rfnbo_case_studies/site' to\n",
      "           'gh-pages' branch and pushing to GitHub.\n",
      "Enumerating objects: 150, done.\n",
      "Counting objects: 100% (150/150), done.\n",
      "Delta compression using up to 256 threads\n",
      "Compressing objects: 100% (81/81), done.\n",
      "Writing objects: 100% (120/120), 88.67 KiB | 1.03 MiB/s, done.\n",
      "Total 120 (delta 66), reused 0 (delta 0), pack-reused 0 (from 0)\n",
      "remote: Resolving deltas: 100% (66/66), completed with 17 local objects.\u001b[K\n",
      "To https://github.com/oliver-hurtig/case_studies_for_pdf.git\n",
      "   808d186..0aba1bc  gh-pages -> gh-pages\n",
      "INFO    -  Your documentation should be available shortly.\n"
     ]
    }
   ],
   "source": [
    "import os\n",
    "import re\n",
    "\n",
    "def replace_in_all_files(to_replace, replace_with, is_regex=False):\n",
    "    for dirpath, dirnames, filenames in os.walk(\"docs/RFNBO case studies/\"):\n",
    "        for file in filenames:\n",
    "            file = os.path.join(dirpath, file)\n",
    "            tempfile = file + \".temp\"\n",
    "            with open(tempfile, \"w\") as target:\n",
    "                with open(file) as source:\n",
    "                    if is_regex:\n",
    "                        content = source.read()\n",
    "                        target.write(re.sub(to_replace, replace_with, content))\n",
    "                    else:\n",
    "                        for line in source:                        \n",
    "                            line = line.replace(to_replace, replace_with)\n",
    "                            target.write(line)\n",
    "            os.rename(tempfile, file)\n",
    "\n",
    "replace_in_all_files(\"???\", \"???+\")\n",
    "replace_in_all_files(r'(# \\d{1,2}\\:\\s)', r'\\n[//]: # (\\1)\\n#', True)\n",
    "\n",
    "with open(\"docs/.pages\", \"r+\") as f:\n",
    "    content = f.read()\n",
    "    f.seek(0)\n",
    "    f.write(content.replace(\"\\n    - index.md\", \"\"))\n",
    "    f.truncate()\n",
    "\n",
    "!mkdocs gh-deploy --force -r https://github.com/oliver-hurtig/case_studies_for_pdf.git\n",
    "\n",
    "replace_in_all_files(\"???+\", \"???\")\n",
    "replace_in_all_files(r'\\[\\/\\/\\]\\: # \\((# \\d{1,2}: )\\)(\\r\\n|\\r|\\n)#', r'\\1', True)\n",
    "\n",
    "with open(\"docs/.pages\", \"r+\") as f:\n",
    "    content = f.read()\n",
    "    f.seek(0)\n",
    "    f.write(content.replace(\"nav:\", \"nav:\\n    - index.md\"))\n",
    "    f.truncate()"
   ]
  },
  {
   "cell_type": "markdown",
   "metadata": {},
   "source": [
    "## The online version"
   ]
  },
  {
   "cell_type": "code",
   "execution_count": 2,
   "metadata": {},
   "outputs": [
    {
     "name": "stdout",
     "output_type": "stream",
     "text": [
      "INFO    -  Cleaning site directory\n",
      "INFO    -  Building documentation to directory:\n",
      "           /storage/hurtiol/Documents/da_rfnbo_case_studies/public\n",
      "INFO    -  mkdocs-plugin-inline-svg: including SVG:\n",
      "           /storage/hurtiol/Documents/da_rfnbo_case_studies/docs/images/h1_allocation.svg\n",
      "INFO    -  mkdocs-plugin-inline-svg: including SVG:\n",
      "           /storage/hurtiol/Documents/da_rfnbo_case_studies/docs/images/h2_grid.svg\n",
      "INFO    -  mkdocs-plugin-inline-svg: including SVG:\n",
      "           /storage/hurtiol/Documents/da_rfnbo_case_studies/docs/images/h3_hydrogen.svg\n",
      "INFO    -  mkdocs-plugin-inline-svg: including SVG:\n",
      "           /storage/hurtiol/Documents/da_rfnbo_case_studies/docs/images/r1_ammonia_relevant\n",
      "           energy_plain.svg\n",
      "INFO    -  mkdocs-plugin-inline-svg: including SVG:\n",
      "           /storage/hurtiol/Documents/da_rfnbo_case_studies/docs/images/r2_integrated\n",
      "           rWGS and FT.svg\n",
      "INFO    -  mkdocs-plugin-inline-svg: including SVG:\n",
      "           /storage/hurtiol/Documents/da_rfnbo_case_studies/docs/images/r3_biogenic\n",
      "           co-production.svg\n",
      "INFO    -  mkdocs-plugin-inline-svg: including SVG:\n",
      "           /storage/hurtiol/Documents/da_rfnbo_case_studies/docs/images/r4_splitting\n",
      "           fossil.svg\n",
      "INFO    -  mkdocs-plugin-inline-svg: including SVG:\n",
      "           /storage/hurtiol/Documents/da_rfnbo_case_studies/docs/images/r5_heat\n",
      "           allocation.svg\n",
      "INFO    -  mkdocs-plugin-inline-svg: including SVG:\n",
      "           /storage/hurtiol/Documents/da_rfnbo_case_studies/docs/images/r6-optimized.svg\n",
      "INFO    -  Doc file 'RFNBO case studies/H3-Hydrogen-full-example.md' contains a\n",
      "           link '#h1-co-products', but there is no such anchor on this page.\n",
      "INFO    -  Doc file 'RFNBO case studies/R4-Partly-replacing-fossil-inputs.md'\n",
      "           contains a link '#r3-biofuels-and-rfnbo-co-production', but there is\n",
      "           no such anchor on this page.\n",
      "INFO    -  Doc file 'RFNBO case studies/R6-Full-example.md' contains a link\n",
      "           '#h3-hydrogen-full-example', but there is no such anchor on this\n",
      "           page.\n",
      "INFO    -  Documentation built in 1.49 seconds\n",
      "INFO    -  Copying '/storage/hurtiol/Documents/da_rfnbo_case_studies/public' to\n",
      "           'gh-pages' branch and pushing to GitHub.\n",
      "Enumerating objects: 582, done.\n",
      "Counting objects: 100% (582/582), done.\n",
      "Delta compression using up to 256 threads\n",
      "Compressing objects: 100% (389/389), done.\n",
      "Writing objects: 100% (582/582), 1.14 MiB | 2.22 MiB/s, done.\n",
      "Total 582 (delta 265), reused 54 (delta 8), pack-reused 0 (from 0)\n",
      "remote: Resolving deltas: 100% (265/265), done.\u001b[K\n",
      "remote: \n",
      "remote: Create a pull request for 'gh-pages' on GitHub by visiting:\u001b[K\n",
      "remote:      https://github.com/ALFA-LCA/case_studies_RFNBO_RCF/pull/new/gh-pages\u001b[K\n",
      "remote: \n",
      "To https://github.com/ALFA-LCA/case_studies_RFNBO_RCF.git\n",
      " * [new branch]      gh-pages -> gh-pages\n",
      "INFO    -  Your documentation should be available shortly.\n"
     ]
    }
   ],
   "source": [
    "!mkdocs gh-deploy --force -r https://github.com/ALFA-LCA/case_studies_RFNBO_RCF.git"
   ]
  },
  {
   "cell_type": "markdown",
   "metadata": {},
   "source": [
    "# Export to word\n",
    "\n",
    "This gives a word document optimized for the JRC report.\n",
    "* Go to https://oliver-hurtig.github.io/case_studies_for_pdf/print_page/\n",
    "* Save the page as webpage, full\n",
    "* Copy the htm file to \"report output/Print Site - RFNBO & RCF case studies.htm\"\n",
    "* Run the code below"
   ]
  },
  {
   "cell_type": "code",
   "execution_count": 97,
   "metadata": {},
   "outputs": [
    {
     "name": "stdout",
     "output_type": "stream",
     "text": [
      "cs1_allocation.svg\n",
      "cs2_grid.svg\n",
      "cs3_ammonia_relevant energy_plain.svg\n",
      "cs4_integrated rWGS and FT.svg\n",
      "cs5_biogenic co-production.svg\n",
      "cs6_splitting fossil.svg\n"
     ]
    }
   ],
   "source": [
    "# !pip install beautifulsoup4\n",
    "import requests\n",
    "from bs4 import BeautifulSoup\n",
    "\n",
    "\n",
    "with open(\"report output/Print Site - RFNBO & RCF case studies.htm\", \"r\") as f:\n",
    "    soup = BeautifulSoup(f)\n",
    "for svg in soup.find_all(attrs={\"sodipodi:docname\": True}):\n",
    "    print(svg.attrs[\"sodipodi:docname\"])\n",
    "    new_tag = soup.new_tag(\"img\", src=f\"docs/images/{svg.attrs[\"sodipodi:docname\"]}\")\n",
    "    svg.replace_with(new_tag)\n",
    "with open(\"report output/compiled.html\", \"w\", encoding='utf-8') as file:\n",
    "    file.write(str(soup))"
   ]
  },
  {
   "cell_type": "code",
   "execution_count": 98,
   "metadata": {},
   "outputs": [
    {
     "name": "stdout",
     "output_type": "stream",
     "text": [
      "Renamed 'Heading 1' to 'JRC_Level-1_title'\n",
      "Renamed 'Heading 2' to 'JRC_Level-2_title'\n",
      "Renamed 'Heading 3' to 'JRC_Level-3_title'\n"
     ]
    }
   ],
   "source": [
    "#!pip install python-docx\n",
    "from docx import Document\n",
    "\n",
    "with open(\"report output/compiled.html\", \"r\") as f:\n",
    "    html = f.read()\n",
    "\n",
    "html = html.replace(' colspan=\"2\"', \"\")\n",
    "html = html.replace(\"↵\", \"\\n\")\n",
    "with open(\"report output/compiled-colspan.html\", \"w\") as f:\n",
    "    f.write(html)\n",
    "\n",
    "!pandoc -s \"report output/compiled-colspan.html\" --mathjax -o \"report output/casestudies.docx\"\n",
    " \n",
    "def rename_styles_in_docx(path):\n",
    "    doc = Document(path)\n",
    "    # Define a mapping from your custom style names to Pandoc's expected names\n",
    "    style_mapping = {\n",
    "        \"Heading 1\": \"JRC_Level-1_title\",\n",
    "        \"Heading 2\": \"JRC_Level-2_title\",\n",
    "        \"Heading 3\": \"JRC_Level-3_title\"\n",
    "    }\n",
    "    for style_name, new_name in style_mapping.items():\n",
    "        if style_name in [style.name for style in doc.styles]:\n",
    "            style = [style for style in doc.styles if style.name == style_name][0]\n",
    "            style.name = new_name\n",
    "            print(f\"Renamed '{style_name}' to '{style.name}'\")\n",
    "    doc.save(\"report output/casestudies.docx\")\n",
    "\n",
    "rename_styles_in_docx(\"report output/casestudies.docx\")"
   ]
  },
  {
   "cell_type": "code",
   "execution_count": null,
   "metadata": {},
   "outputs": [
    {
     "name": "stdout",
     "output_type": "stream",
     "text": [
      "Documents merged successfully into report output/Report casestudies.docx\n"
     ]
    }
   ],
   "source": [
    "#!pip install setuptools-scm\n",
    "#!pip install docxcompose\n",
    "from docxcompose.composer import Composer\n",
    "\n",
    "\n",
    "def merge_docs(output_path, *input_paths):\n",
    "\n",
    "    base_doc = Document(input_paths[0])\n",
    "    composer = Composer(base_doc)\n",
    "    composer.restart_numbering = False\n",
    "\n",
    "    for file_path in input_paths[1:]:\n",
    "        doc = Document(file_path)\n",
    "        composer.append(\n",
    "            doc,\n",
    "        )\n",
    "\n",
    "    composer.save(output_path)\n",
    "    print(f\"Documents merged successfully into {output_path}\")\n",
    "\n",
    "\n",
    "if __name__ == \"__main__\":\n",
    "    output_file = \"report output/Report casestudies.docx\"\n",
    "    input_files = [\n",
    "        \"report output/PubsyReportsTemplateStart.docx\",\n",
    "        \"report output/casestudies.docx\",\n",
    "        \"report output/PubsyReportsTemplateEnd.docx\",\n",
    "    ]\n",
    "    merge_docs(output_file, *input_files)"
   ]
  }
 ],
 "metadata": {
  "kernelspec": {
   "display_name": "EVALUATE",
   "language": "python",
   "name": "python3"
  },
  "language_info": {
   "codemirror_mode": {
    "name": "ipython",
    "version": 3
   },
   "file_extension": ".py",
   "mimetype": "text/x-python",
   "name": "python",
   "nbconvert_exporter": "python",
   "pygments_lexer": "ipython3",
   "version": "3.13.1"
  }
 },
 "nbformat": 4,
 "nbformat_minor": 4
}
